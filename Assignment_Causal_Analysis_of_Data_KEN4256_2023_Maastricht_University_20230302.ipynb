{
  "nbformat": 4,
  "nbformat_minor": 0,
  "metadata": {
    "colab": {
      "provenance": []
    },
    "kernelspec": {
      "name": "python3",
      "display_name": "Python 3"
    },
    "language_info": {
      "name": "python"
    }
  },
  "cells": [
    {
      "cell_type": "markdown",
      "source": [],
      "metadata": {
        "id": "o092GFPaJFRh"
      }
    },
    {
      "cell_type": "code",
      "source": [
        "import pandas as pd\n",
        "df = pd.read_csv('https://raw.githubusercontent.com/FHCampbell71/ComputationalStats/main/a1_data.csv')"
      ],
      "metadata": {
        "id": "BxiHK_3D34J6"
      },
      "execution_count": null,
      "outputs": []
    },
    {
      "cell_type": "code",
      "source": [
        "# import statistics\n",
        "# statistics.mean(df)"
      ],
      "metadata": {
        "id": "AUF5WOerD3qz"
      },
      "execution_count": null,
      "outputs": []
    },
    {
      "cell_type": "code",
      "source": [
        "pip install gcastle==1.0.3"
      ],
      "metadata": {
        "id": "z3poOaBquSPk",
        "outputId": "590a3540-fe46-4829-e579-91c45ca0a778",
        "colab": {
          "base_uri": "https://localhost:8080/"
        }
      },
      "execution_count": null,
      "outputs": [
        {
          "output_type": "stream",
          "name": "stdout",
          "text": [
            "Looking in indexes: https://pypi.org/simple, https://us-python.pkg.dev/colab-wheels/public/simple/\n",
            "Requirement already satisfied: gcastle==1.0.3 in /usr/local/lib/python3.8/dist-packages (1.0.3)\n",
            "Requirement already satisfied: tqdm>=4.48.2 in /usr/local/lib/python3.8/dist-packages (from gcastle==1.0.3) (4.64.1)\n",
            "Requirement already satisfied: matplotlib>=2.1.2 in /usr/local/lib/python3.8/dist-packages (from gcastle==1.0.3) (3.5.3)\n",
            "Requirement already satisfied: scikit-learn>=0.21.1 in /usr/local/lib/python3.8/dist-packages (from gcastle==1.0.3) (1.2.1)\n",
            "Requirement already satisfied: numpy>=1.19.1 in /usr/local/lib/python3.8/dist-packages (from gcastle==1.0.3) (1.22.4)\n",
            "Requirement already satisfied: scipy>=1.7.3 in /usr/local/lib/python3.8/dist-packages (from gcastle==1.0.3) (1.10.1)\n",
            "Requirement already satisfied: networkx>=2.5 in /usr/local/lib/python3.8/dist-packages (from gcastle==1.0.3) (3.0)\n",
            "Requirement already satisfied: pandas>=0.22.0 in /usr/local/lib/python3.8/dist-packages (from gcastle==1.0.3) (1.3.5)\n",
            "Requirement already satisfied: packaging>=20.0 in /usr/local/lib/python3.8/dist-packages (from matplotlib>=2.1.2->gcastle==1.0.3) (23.0)\n",
            "Requirement already satisfied: python-dateutil>=2.7 in /usr/local/lib/python3.8/dist-packages (from matplotlib>=2.1.2->gcastle==1.0.3) (2.8.2)\n",
            "Requirement already satisfied: kiwisolver>=1.0.1 in /usr/local/lib/python3.8/dist-packages (from matplotlib>=2.1.2->gcastle==1.0.3) (1.4.4)\n",
            "Requirement already satisfied: pyparsing>=2.2.1 in /usr/local/lib/python3.8/dist-packages (from matplotlib>=2.1.2->gcastle==1.0.3) (3.0.9)\n",
            "Requirement already satisfied: pillow>=6.2.0 in /usr/local/lib/python3.8/dist-packages (from matplotlib>=2.1.2->gcastle==1.0.3) (8.4.0)\n",
            "Requirement already satisfied: fonttools>=4.22.0 in /usr/local/lib/python3.8/dist-packages (from matplotlib>=2.1.2->gcastle==1.0.3) (4.38.0)\n",
            "Requirement already satisfied: cycler>=0.10 in /usr/local/lib/python3.8/dist-packages (from matplotlib>=2.1.2->gcastle==1.0.3) (0.11.0)\n",
            "Requirement already satisfied: pytz>=2017.3 in /usr/local/lib/python3.8/dist-packages (from pandas>=0.22.0->gcastle==1.0.3) (2022.7.1)\n",
            "Requirement already satisfied: threadpoolctl>=2.0.0 in /usr/local/lib/python3.8/dist-packages (from scikit-learn>=0.21.1->gcastle==1.0.3) (3.1.0)\n",
            "Requirement already satisfied: joblib>=1.1.1 in /usr/local/lib/python3.8/dist-packages (from scikit-learn>=0.21.1->gcastle==1.0.3) (1.2.0)\n",
            "Requirement already satisfied: six>=1.5 in /usr/local/lib/python3.8/dist-packages (from python-dateutil>=2.7->matplotlib>=2.1.2->gcastle==1.0.3) (1.15.0)\n"
          ]
        }
      ]
    },
    {
      "cell_type": "code",
      "source": [
        "pip install CausalPy"
      ],
      "metadata": {
        "colab": {
          "base_uri": "https://localhost:8080/"
        },
        "id": "_Y1t3foEHhvB",
        "outputId": "55ac86d5-5019-45a2-f34f-fd8d7653a1b6"
      },
      "execution_count": null,
      "outputs": [
        {
          "output_type": "stream",
          "name": "stdout",
          "text": [
            "Looking in indexes: https://pypi.org/simple, https://us-python.pkg.dev/colab-wheels/public/simple/\n",
            "Collecting CausalPy\n",
            "  Downloading CausalPy-0.0.10-py3-none-any.whl (91 kB)\n",
            "\u001b[2K     \u001b[90m━━━━━━━━━━━━━━━━━━━━━━━━━━━━━━━━━━━━━━━━\u001b[0m \u001b[32m91.8/91.8 KB\u001b[0m \u001b[31m3.7 MB/s\u001b[0m eta \u001b[36m0:00:00\u001b[0m\n",
            "\u001b[?25hRequirement already satisfied: seaborn>=0.11.2 in /usr/local/lib/python3.8/dist-packages (from CausalPy) (0.11.2)\n",
            "Requirement already satisfied: scipy in /usr/local/lib/python3.8/dist-packages (from CausalPy) (1.10.1)\n",
            "Requirement already satisfied: graphviz in /usr/local/lib/python3.8/dist-packages (from CausalPy) (0.10.1)\n",
            "Requirement already satisfied: xarray>=v2022.11.0 in /usr/local/lib/python3.8/dist-packages (from CausalPy) (2022.12.0)\n",
            "Requirement already satisfied: scikit-learn>=1 in /usr/local/lib/python3.8/dist-packages (from CausalPy) (1.2.1)\n",
            "Requirement already satisfied: pandas in /usr/local/lib/python3.8/dist-packages (from CausalPy) (1.3.5)\n",
            "Collecting pymc>=5.0.0\n",
            "  Downloading pymc-5.0.2-py3-none-any.whl (683 kB)\n",
            "\u001b[2K     \u001b[90m━━━━━━━━━━━━━━━━━━━━━━━━━━━━━━━━━━━━━━\u001b[0m \u001b[32m683.0/683.0 KB\u001b[0m \u001b[31m18.0 MB/s\u001b[0m eta \u001b[36m0:00:00\u001b[0m\n",
            "\u001b[?25hRequirement already satisfied: patsy in /usr/local/lib/python3.8/dist-packages (from CausalPy) (0.5.3)\n",
            "Requirement already satisfied: matplotlib>=3.5.3 in /usr/local/lib/python3.8/dist-packages (from CausalPy) (3.5.3)\n",
            "Collecting arviz>=0.14.0\n",
            "  Downloading arviz-0.15.0-py3-none-any.whl (1.6 MB)\n",
            "\u001b[2K     \u001b[90m━━━━━━━━━━━━━━━━━━━━━━━━━━━━━━━━━━━━━━━━\u001b[0m \u001b[32m1.6/1.6 MB\u001b[0m \u001b[31m45.3 MB/s\u001b[0m eta \u001b[36m0:00:00\u001b[0m\n",
            "\u001b[?25hRequirement already satisfied: ipython!=8.7.0 in /usr/local/lib/python3.8/dist-packages (from CausalPy) (7.9.0)\n",
            "Requirement already satisfied: numpy in /usr/local/lib/python3.8/dist-packages (from CausalPy) (1.22.4)\n",
            "Collecting pandas\n",
            "  Downloading pandas-1.5.3-cp38-cp38-manylinux_2_17_x86_64.manylinux2014_x86_64.whl (12.2 MB)\n",
            "\u001b[2K     \u001b[90m━━━━━━━━━━━━━━━━━━━━━━━━━━━━━━━━━━━━━━━━\u001b[0m \u001b[32m12.2/12.2 MB\u001b[0m \u001b[31m74.8 MB/s\u001b[0m eta \u001b[36m0:00:00\u001b[0m\n",
            "\u001b[?25hRequirement already satisfied: packaging in /usr/local/lib/python3.8/dist-packages (from arviz>=0.14.0->CausalPy) (23.0)\n",
            "Collecting setuptools>=60.0.0\n",
            "  Downloading setuptools-67.4.0-py3-none-any.whl (1.1 MB)\n",
            "\u001b[2K     \u001b[90m━━━━━━━━━━━━━━━━━━━━━━━━━━━━━━━━━━━━━━━━\u001b[0m \u001b[32m1.1/1.1 MB\u001b[0m \u001b[31m44.2 MB/s\u001b[0m eta \u001b[36m0:00:00\u001b[0m\n",
            "\u001b[?25hRequirement already satisfied: typing-extensions>=4.1.0 in /usr/local/lib/python3.8/dist-packages (from arviz>=0.14.0->CausalPy) (4.5.0)\n",
            "Requirement already satisfied: xarray-einstats>=0.3 in /usr/local/lib/python3.8/dist-packages (from arviz>=0.14.0->CausalPy) (0.5.1)\n",
            "Collecting h5netcdf>=1.0.2\n",
            "  Downloading h5netcdf-1.1.0-py2.py3-none-any.whl (26 kB)\n",
            "Requirement already satisfied: pexpect in /usr/local/lib/python3.8/dist-packages (from ipython!=8.7.0->CausalPy) (4.8.0)\n",
            "Collecting jedi>=0.10\n",
            "  Downloading jedi-0.18.2-py2.py3-none-any.whl (1.6 MB)\n",
            "\u001b[2K     \u001b[90m━━━━━━━━━━━━━━━━━━━━━━━━━━━━━━━━━━━━━━━━\u001b[0m \u001b[32m1.6/1.6 MB\u001b[0m \u001b[31m52.5 MB/s\u001b[0m eta \u001b[36m0:00:00\u001b[0m\n",
            "\u001b[?25hRequirement already satisfied: decorator in /usr/local/lib/python3.8/dist-packages (from ipython!=8.7.0->CausalPy) (4.4.2)\n",
            "Requirement already satisfied: traitlets>=4.2 in /usr/local/lib/python3.8/dist-packages (from ipython!=8.7.0->CausalPy) (5.7.1)\n",
            "Requirement already satisfied: prompt-toolkit<2.1.0,>=2.0.0 in /usr/local/lib/python3.8/dist-packages (from ipython!=8.7.0->CausalPy) (2.0.10)\n",
            "Requirement already satisfied: pygments in /usr/local/lib/python3.8/dist-packages (from ipython!=8.7.0->CausalPy) (2.6.1)\n",
            "Requirement already satisfied: backcall in /usr/local/lib/python3.8/dist-packages (from ipython!=8.7.0->CausalPy) (0.2.0)\n",
            "Requirement already satisfied: pickleshare in /usr/local/lib/python3.8/dist-packages (from ipython!=8.7.0->CausalPy) (0.7.5)\n",
            "Requirement already satisfied: pillow>=6.2.0 in /usr/local/lib/python3.8/dist-packages (from matplotlib>=3.5.3->CausalPy) (8.4.0)\n",
            "Requirement already satisfied: pyparsing>=2.2.1 in /usr/local/lib/python3.8/dist-packages (from matplotlib>=3.5.3->CausalPy) (3.0.9)\n",
            "Requirement already satisfied: python-dateutil>=2.7 in /usr/local/lib/python3.8/dist-packages (from matplotlib>=3.5.3->CausalPy) (2.8.2)\n",
            "Requirement already satisfied: cycler>=0.10 in /usr/local/lib/python3.8/dist-packages (from matplotlib>=3.5.3->CausalPy) (0.11.0)\n",
            "Requirement already satisfied: fonttools>=4.22.0 in /usr/local/lib/python3.8/dist-packages (from matplotlib>=3.5.3->CausalPy) (4.38.0)\n",
            "Requirement already satisfied: kiwisolver>=1.0.1 in /usr/local/lib/python3.8/dist-packages (from matplotlib>=3.5.3->CausalPy) (1.4.4)\n",
            "Requirement already satisfied: pytz>=2020.1 in /usr/local/lib/python3.8/dist-packages (from pandas->CausalPy) (2022.7.1)\n",
            "Requirement already satisfied: cloudpickle in /usr/local/lib/python3.8/dist-packages (from pymc>=5.0.0->CausalPy) (2.2.1)\n",
            "Requirement already satisfied: fastprogress>=0.2.0 in /usr/local/lib/python3.8/dist-packages (from pymc>=5.0.0->CausalPy) (1.0.3)\n",
            "Requirement already satisfied: cachetools>=4.2.1 in /usr/local/lib/python3.8/dist-packages (from pymc>=5.0.0->CausalPy) (5.3.0)\n",
            "Collecting pytensor==2.9.1\n",
            "  Downloading pytensor-2.9.1-cp38-cp38-manylinux_2_17_x86_64.manylinux2014_x86_64.whl (4.2 MB)\n",
            "\u001b[2K     \u001b[90m━━━━━━━━━━━━━━━━━━━━━━━━━━━━━━━━━━━━━━━━\u001b[0m \u001b[32m4.2/4.2 MB\u001b[0m \u001b[31m38.5 MB/s\u001b[0m eta \u001b[36m0:00:00\u001b[0m\n",
            "\u001b[?25hRequirement already satisfied: cons in /usr/local/lib/python3.8/dist-packages (from pytensor==2.9.1->pymc>=5.0.0->CausalPy) (0.4.5)\n",
            "Requirement already satisfied: miniKanren in /usr/local/lib/python3.8/dist-packages (from pytensor==2.9.1->pymc>=5.0.0->CausalPy) (1.0.3)\n",
            "Requirement already satisfied: logical-unification in /usr/local/lib/python3.8/dist-packages (from pytensor==2.9.1->pymc>=5.0.0->CausalPy) (0.4.5)\n",
            "Requirement already satisfied: etuples in /usr/local/lib/python3.8/dist-packages (from pytensor==2.9.1->pymc>=5.0.0->CausalPy) (0.3.8)\n",
            "Requirement already satisfied: filelock in /usr/local/lib/python3.8/dist-packages (from pytensor==2.9.1->pymc>=5.0.0->CausalPy) (3.9.0)\n",
            "Requirement already satisfied: joblib>=1.1.1 in /usr/local/lib/python3.8/dist-packages (from scikit-learn>=1->CausalPy) (1.2.0)\n",
            "Requirement already satisfied: threadpoolctl>=2.0.0 in /usr/local/lib/python3.8/dist-packages (from scikit-learn>=1->CausalPy) (3.1.0)\n",
            "Requirement already satisfied: six in /usr/local/lib/python3.8/dist-packages (from patsy->CausalPy) (1.15.0)\n",
            "Requirement already satisfied: h5py in /usr/local/lib/python3.8/dist-packages (from h5netcdf>=1.0.2->arviz>=0.14.0->CausalPy) (3.1.0)\n",
            "Requirement already satisfied: parso<0.9.0,>=0.8.0 in /usr/local/lib/python3.8/dist-packages (from jedi>=0.10->ipython!=8.7.0->CausalPy) (0.8.3)\n",
            "Requirement already satisfied: wcwidth in /usr/local/lib/python3.8/dist-packages (from prompt-toolkit<2.1.0,>=2.0.0->ipython!=8.7.0->CausalPy) (0.2.6)\n",
            "Requirement already satisfied: ptyprocess>=0.5 in /usr/local/lib/python3.8/dist-packages (from pexpect->ipython!=8.7.0->CausalPy) (0.7.0)\n",
            "Requirement already satisfied: toolz in /usr/local/lib/python3.8/dist-packages (from logical-unification->pytensor==2.9.1->pymc>=5.0.0->CausalPy) (0.12.0)\n",
            "Requirement already satisfied: multipledispatch in /usr/local/lib/python3.8/dist-packages (from logical-unification->pytensor==2.9.1->pymc>=5.0.0->CausalPy) (0.6.0)\n",
            "Installing collected packages: setuptools, jedi, pandas, h5netcdf, arviz, pytensor, pymc, CausalPy\n",
            "  Attempting uninstall: setuptools\n",
            "    Found existing installation: setuptools 57.4.0\n",
            "    Uninstalling setuptools-57.4.0:\n",
            "      Successfully uninstalled setuptools-57.4.0\n",
            "  Attempting uninstall: pandas\n",
            "    Found existing installation: pandas 1.3.5\n",
            "    Uninstalling pandas-1.3.5:\n",
            "      Successfully uninstalled pandas-1.3.5\n",
            "  Attempting uninstall: arviz\n",
            "    Found existing installation: arviz 0.12.1\n",
            "    Uninstalling arviz-0.12.1:\n",
            "      Successfully uninstalled arviz-0.12.1\n",
            "  Attempting uninstall: pymc\n",
            "    Found existing installation: pymc 4.1.4\n",
            "    Uninstalling pymc-4.1.4:\n",
            "      Successfully uninstalled pymc-4.1.4\n",
            "\u001b[31mERROR: pip's dependency resolver does not currently take into account all the packages that are installed. This behaviour is the source of the following dependency conflicts.\n",
            "cvxpy 1.2.3 requires setuptools<=64.0.2, but you have setuptools 67.4.0 which is incompatible.\u001b[0m\u001b[31m\n",
            "\u001b[0mSuccessfully installed CausalPy-0.0.10 arviz-0.15.0 h5netcdf-1.1.0 jedi-0.18.2 pandas-1.5.3 pymc-5.0.2 pytensor-2.9.1 setuptools-67.4.0\n"
          ]
        }
      ]
    },
    {
      "cell_type": "code",
      "source": [
        "import os\n",
        "import numpy as np\n",
        "import networkx as nx\n",
        "import pandas as pd\n",
        "import castle\n",
        "\n",
        "os.environ['CASTLE_BACKEND'] = 'pytorch'\n",
        "\n",
        "from collections import OrderedDict\n",
        "from castle.common import GraphDAG\n",
        "from castle.metrics import MetricsDAG\n",
        "from castle.datasets import IIDSimulation, DAG\n",
        "from castle.algorithms import PC\n",
        "\n",
        "import matplotlib.pyplot as plt\n",
        "\n",
        "#print dataframe\n",
        "#print(df[\"A\"].head())\n",
        "# Let's generate the data according to Fig 2. A.\n",
        "A = df[\"A\"]\n",
        "B = df[\"B\"]\n",
        "C = df[\"C\"]\n",
        "D = df[\"D\"]\n",
        "E = df[\"E\"]\n",
        "F = df[\"F\"]\n",
        "G = df[\"G\"]\n",
        "H = df[\"H\"]\n",
        "I = df[\"I\"]\n",
        "J = df[\"J\"]\n",
        "K = df[\"K\"]\n",
        "\n",
        "\n",
        "# To matrix\n",
        "pc_dataset = np.vstack([A, B, C, D, E, F, G, H, I, J, K]).T\n",
        "\n",
        "# Sanity check\n",
        "print(pc_dataset.shape)\n",
        "\n",
        "# (1000, 4)\n",
        "\n",
        "# Build the model\n",
        "pc = PC()\n",
        "pc.learn(pc_dataset)\n",
        "\n",
        "# Print out the learned matrix\n",
        "print(pc.causal_matrix)\n",
        "\n",
        "# Tensor([[0, 0, 1, 0],\n",
        "#         [0, 0, 1, 0],\n",
        "#         [0, 0, 0, 1],\n",
        "#         [0, 0, 0, 0]])\n",
        "\n",
        "# Get learned graph\n",
        "learned_graph = nx.DiGraph(pc.causal_matrix)\n",
        "\n",
        "# Relabel the nodes\n",
        "MAPPING = {k: v for k, v in zip(range(12), [\"A\", \"B\", \"C\", \"D\", \" E\", \"F\", \"G\", \"H\", \"I\", \"J\", \"K\"])}\n",
        "learned_graph = nx.relabel_nodes(learned_graph, MAPPING, copy=True)\n",
        "\n",
        "# Plot the graph\n",
        "nx.draw(\n",
        "    learned_graph, \n",
        "    with_labels=True,\n",
        "    node_size=1800,\n",
        "    font_size=18,\n",
        "    font_color='white'\n",
        ")"
      ],
      "metadata": {
        "id": "R0fyenZgstA7",
        "outputId": "bb36e72c-660d-4c08-ffe0-ada61358e3bb",
        "colab": {
          "base_uri": "https://localhost:8080/",
          "height": 527
        }
      },
      "execution_count": null,
      "outputs": [
        {
          "output_type": "stream",
          "name": "stdout",
          "text": [
            "(11672, 11)\n",
            "[[0 1 1 0 0 0 0 1 0 1 1]\n",
            " [0 0 1 0 0 0 0 0 0 1 0]\n",
            " [0 0 0 0 0 0 0 0 0 0 1]\n",
            " [0 0 1 0 1 0 0 0 0 1 0]\n",
            " [0 0 1 0 0 0 0 0 0 0 0]\n",
            " [0 1 1 0 0 0 1 1 0 1 0]\n",
            " [0 0 0 0 0 0 0 0 0 0 1]\n",
            " [0 0 0 0 1 0 0 0 0 1 1]\n",
            " [0 0 0 0 0 0 0 1 0 1 1]\n",
            " [0 0 0 0 0 0 0 0 0 0 0]\n",
            " [0 0 0 0 1 0 0 0 0 0 0]]\n"
          ]
        },
        {
          "output_type": "display_data",
          "data": {
            "text/plain": [
              "<Figure size 432x288 with 1 Axes>"
            ],
            "image/png": "[encoded data removed]"
          },
          "metadata": {}
        }
      ]
    },
    {
      "cell_type": "code",
      "source": [
        "import os\n",
        "import numpy as np\n",
        "import networkx as nx\n",
        "import pandas as pd\n",
        "import castle\n",
        "\n",
        "os.environ['CASTLE_BACKEND'] = 'pytorch'\n",
        "\n",
        "from collections import OrderedDict\n",
        "from castle.common import GraphDAG\n",
        "from castle.metrics import MetricsDAG\n",
        "from castle.datasets import IIDSimulation, DAG\n",
        "from castle.algorithms import PC\n",
        "\n",
        "import matplotlib.pyplot as plt\n",
        "\n",
        "df_split = np.array_split(df, 2)\n",
        "#print dataframe\n",
        "#print(df[\"A\"].head())\n",
        "# Let's generate the data according to Fig 2. A.\n",
        "A = df_split[0][\"A\"]\n",
        "B = df_split[0][\"B\"]\n",
        "C = df_split[0][\"C\"]\n",
        "D = df_split[0][\"D\"]\n",
        "E = df_split[0][\"E\"]\n",
        "F = df_split[0][\"F\"]\n",
        "G = df_split[0][\"G\"]\n",
        "H = df_split[0][\"H\"]\n",
        "I = df_split[0][\"I\"]\n",
        "J = df_split[0][\"J\"]\n",
        "K = df_split[0][\"K\"]\n",
        "\n",
        "\n",
        "# To matrix\n",
        "pc_dataset = np.vstack([A, B, C, D, E, F, G, H, I, J, K]).T\n",
        "\n",
        "# Sanity check\n",
        "print(pc_dataset.shape)\n",
        "\n",
        "# (1000, 4)\n",
        "\n",
        "# Build the model\n",
        "pc = PC()\n",
        "pc.learn(pc_dataset)\n",
        "\n",
        "# Print out the learned matrix\n",
        "print(pc.causal_matrix)\n",
        "\n",
        "# Tensor([[0, 0, 1, 0],\n",
        "#         [0, 0, 1, 0],\n",
        "#         [0, 0, 0, 1],\n",
        "#         [0, 0, 0, 0]])\n",
        "\n",
        "# Get learned graph\n",
        "learned_graph = nx.DiGraph(pc.causal_matrix)\n",
        "\n",
        "# Relabel the nodes\n",
        "MAPPING = {k: v for k, v in zip(range(12), [\"A\", \"B\", \"C\", \"D\", \" E\", \"F\", \"G\", \"H\", \"I\", \"J\", \"K\"])}\n",
        "learned_graph = nx.relabel_nodes(learned_graph, MAPPING, copy=True)\n",
        "\n",
        "# Plot the graph\n",
        "nx.draw(\n",
        "    learned_graph, \n",
        "    with_labels=True,\n",
        "    node_size=1800,\n",
        "    font_size=18,\n",
        "    font_color='white'\n",
        ")"
      ],
      "metadata": {
        "colab": {
          "base_uri": "https://localhost:8080/",
          "height": 527
        },
        "id": "yctI6wwVFXxQ",
        "outputId": "5083fbf9-161b-41b5-945d-44998b285566"
      },
      "execution_count": null,
      "outputs": [
        {
          "output_type": "stream",
          "name": "stdout",
          "text": [
            "(5836, 11)\n",
            "[[0 1 0 0 0 0 0 0 0 1 0]\n",
            " [0 0 0 0 0 1 0 0 0 0 0]\n",
            " [0 0 0 1 0 0 1 0 1 0 0]\n",
            " [0 0 0 0 1 0 1 0 1 1 0]\n",
            " [1 0 0 0 0 0 1 1 1 0 0]\n",
            " [1 0 0 0 0 0 1 1 0 0 0]\n",
            " [0 0 0 0 0 0 0 0 0 1 0]\n",
            " [0 0 0 0 0 0 1 0 0 0 0]\n",
            " [0 0 0 0 0 0 0 0 0 0 0]\n",
            " [0 0 0 0 1 0 0 0 0 0 0]\n",
            " [0 1 0 0 0 0 0 0 1 0 0]]\n"
          ]
        },
        {
          "output_type": "display_data",
          "data": {
            "text/plain": [
              "<Figure size 432x288 with 1 Axes>"
            ],
            "image/png": "[encoded data removed]"
          },
          "metadata": {}
        }
      ]
    }
  ]
}