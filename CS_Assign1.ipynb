{
  "nbformat": 4,
  "nbformat_minor": 0,
  "metadata": {
    "colab": {
      "provenance": [],
      "include_colab_link": true
    },
    "kernelspec": {
      "name": "python3",
      "display_name": "Python 3"
    },
    "language_info": {
      "name": "python"
    },
    "widgets": {
      "application/vnd.jupyter.widget-state+json": {
        "04f1ac91a8064770898c6c6604a51723": {
          "model_module": "@jupyter-widgets/controls",
          "model_name": "HBoxModel",
          "model_module_version": "1.5.0",
          "state": {
            "_dom_classes": [],
            "_model_module": "@jupyter-widgets/controls",
            "_model_module_version": "1.5.0",
            "_model_name": "HBoxModel",
            "_view_count": null,
            "_view_module": "@jupyter-widgets/controls",
            "_view_module_version": "1.5.0",
            "_view_name": "HBoxView",
            "box_style": "",
            "children": [
              "IPY_MODEL_b1018ff1fd564c95989ec00b016ae6d4",
              "IPY_MODEL_9c104ade7e4a4c37baa7ba9c7ab9c55a",
              "IPY_MODEL_eaabab960db646178a61cf992c1edbbe"
            ],
            "layout": "IPY_MODEL_bfe7dcebb27a4fab96966cdc966cd3ef"
          }
        },
        "b1018ff1fd564c95989ec00b016ae6d4": {
          "model_module": "@jupyter-widgets/controls",
          "model_name": "HTMLModel",
          "model_module_version": "1.5.0",
          "state": {
            "_dom_classes": [],
            "_model_module": "@jupyter-widgets/controls",
            "_model_module_version": "1.5.0",
            "_model_name": "HTMLModel",
            "_view_count": null,
            "_view_module": "@jupyter-widgets/controls",
            "_view_module_version": "1.5.0",
            "_view_name": "HTMLView",
            "description": "",
            "description_tooltip": null,
            "layout": "IPY_MODEL_9d1422c15f854c2baa9bba614ee0964e",
            "placeholder": "​",
            "style": "IPY_MODEL_5ba5cccf834643e9a9a2f10fe8fb205f",
            "value": "Depth=5, working on node 10: 100%"
          }
        },
        "9c104ade7e4a4c37baa7ba9c7ab9c55a": {
          "model_module": "@jupyter-widgets/controls",
          "model_name": "FloatProgressModel",
          "model_module_version": "1.5.0",
          "state": {
            "_dom_classes": [],
            "_model_module": "@jupyter-widgets/controls",
            "_model_module_version": "1.5.0",
            "_model_name": "FloatProgressModel",
            "_view_count": null,
            "_view_module": "@jupyter-widgets/controls",
            "_view_module_version": "1.5.0",
            "_view_name": "ProgressView",
            "bar_style": "success",
            "description": "",
            "description_tooltip": null,
            "layout": "IPY_MODEL_680e65233e6b41729442f42dc81a2149",
            "max": 11,
            "min": 0,
            "orientation": "horizontal",
            "style": "IPY_MODEL_515be794b5924c7d92e9000d7b6b99d7",
            "value": 11
          }
        },
        "eaabab960db646178a61cf992c1edbbe": {
          "model_module": "@jupyter-widgets/controls",
          "model_name": "HTMLModel",
          "model_module_version": "1.5.0",
          "state": {
            "_dom_classes": [],
            "_model_module": "@jupyter-widgets/controls",
            "_model_module_version": "1.5.0",
            "_model_name": "HTMLModel",
            "_view_count": null,
            "_view_module": "@jupyter-widgets/controls",
            "_view_module_version": "1.5.0",
            "_view_name": "HTMLView",
            "description": "",
            "description_tooltip": null,
            "layout": "IPY_MODEL_34e3ccf7b17e45adb400f8b88fbefa03",
            "placeholder": "​",
            "style": "IPY_MODEL_c9227edeea094ea890ee649225d2456c",
            "value": " 11/11 [00:00&lt;00:00, 120.37it/s]"
          }
        },
        "bfe7dcebb27a4fab96966cdc966cd3ef": {
          "model_module": "@jupyter-widgets/base",
          "model_name": "LayoutModel",
          "model_module_version": "1.2.0",
          "state": {
            "_model_module": "@jupyter-widgets/base",
            "_model_module_version": "1.2.0",
            "_model_name": "LayoutModel",
            "_view_count": null,
            "_view_module": "@jupyter-widgets/base",
            "_view_module_version": "1.2.0",
            "_view_name": "LayoutView",
            "align_content": null,
            "align_items": null,
            "align_self": null,
            "border": null,
            "bottom": null,
            "display": null,
            "flex": null,
            "flex_flow": null,
            "grid_area": null,
            "grid_auto_columns": null,
            "grid_auto_flow": null,
            "grid_auto_rows": null,
            "grid_column": null,
            "grid_gap": null,
            "grid_row": null,
            "grid_template_areas": null,
            "grid_template_columns": null,
            "grid_template_rows": null,
            "height": null,
            "justify_content": null,
            "justify_items": null,
            "left": null,
            "margin": null,
            "max_height": null,
            "max_width": null,
            "min_height": null,
            "min_width": null,
            "object_fit": null,
            "object_position": null,
            "order": null,
            "overflow": null,
            "overflow_x": null,
            "overflow_y": null,
            "padding": null,
            "right": null,
            "top": null,
            "visibility": null,
            "width": null
          }
        },
        "9d1422c15f854c2baa9bba614ee0964e": {
          "model_module": "@jupyter-widgets/base",
          "model_name": "LayoutModel",
          "model_module_version": "1.2.0",
          "state": {
            "_model_module": "@jupyter-widgets/base",
            "_model_module_version": "1.2.0",
            "_model_name": "LayoutModel",
            "_view_count": null,
            "_view_module": "@jupyter-widgets/base",
            "_view_module_version": "1.2.0",
            "_view_name": "LayoutView",
            "align_content": null,
            "align_items": null,
            "align_self": null,
            "border": null,
            "bottom": null,
            "display": null,
            "flex": null,
            "flex_flow": null,
            "grid_area": null,
            "grid_auto_columns": null,
            "grid_auto_flow": null,
            "grid_auto_rows": null,
            "grid_column": null,
            "grid_gap": null,
            "grid_row": null,
            "grid_template_areas": null,
            "grid_template_columns": null,
            "grid_template_rows": null,
            "height": null,
            "justify_content": null,
            "justify_items": null,
            "left": null,
            "margin": null,
            "max_height": null,
            "max_width": null,
            "min_height": null,
            "min_width": null,
            "object_fit": null,
            "object_position": null,
            "order": null,
            "overflow": null,
            "overflow_x": null,
            "overflow_y": null,
            "padding": null,
            "right": null,
            "top": null,
            "visibility": null,
            "width": null
          }
        },
        "5ba5cccf834643e9a9a2f10fe8fb205f": {
          "model_module": "@jupyter-widgets/controls",
          "model_name": "DescriptionStyleModel",
          "model_module_version": "1.5.0",
          "state": {
            "_model_module": "@jupyter-widgets/controls",
            "_model_module_version": "1.5.0",
            "_model_name": "DescriptionStyleModel",
            "_view_count": null,
            "_view_module": "@jupyter-widgets/base",
            "_view_module_version": "1.2.0",
            "_view_name": "StyleView",
            "description_width": ""
          }
        },
        "680e65233e6b41729442f42dc81a2149": {
          "model_module": "@jupyter-widgets/base",
          "model_name": "LayoutModel",
          "model_module_version": "1.2.0",
          "state": {
            "_model_module": "@jupyter-widgets/base",
            "_model_module_version": "1.2.0",
            "_model_name": "LayoutModel",
            "_view_count": null,
            "_view_module": "@jupyter-widgets/base",
            "_view_module_version": "1.2.0",
            "_view_name": "LayoutView",
            "align_content": null,
            "align_items": null,
            "align_self": null,
            "border": null,
            "bottom": null,
            "display": null,
            "flex": null,
            "flex_flow": null,
            "grid_area": null,
            "grid_auto_columns": null,
            "grid_auto_flow": null,
            "grid_auto_rows": null,
            "grid_column": null,
            "grid_gap": null,
            "grid_row": null,
            "grid_template_areas": null,
            "grid_template_columns": null,
            "grid_template_rows": null,
            "height": null,
            "justify_content": null,
            "justify_items": null,
            "left": null,
            "margin": null,
            "max_height": null,
            "max_width": null,
            "min_height": null,
            "min_width": null,
            "object_fit": null,
            "object_position": null,
            "order": null,
            "overflow": null,
            "overflow_x": null,
            "overflow_y": null,
            "padding": null,
            "right": null,
            "top": null,
            "visibility": null,
            "width": null
          }
        },
        "515be794b5924c7d92e9000d7b6b99d7": {
          "model_module": "@jupyter-widgets/controls",
          "model_name": "ProgressStyleModel",
          "model_module_version": "1.5.0",
          "state": {
            "_model_module": "@jupyter-widgets/controls",
            "_model_module_version": "1.5.0",
            "_model_name": "ProgressStyleModel",
            "_view_count": null,
            "_view_module": "@jupyter-widgets/base",
            "_view_module_version": "1.2.0",
            "_view_name": "StyleView",
            "bar_color": null,
            "description_width": ""
          }
        },
        "34e3ccf7b17e45adb400f8b88fbefa03": {
          "model_module": "@jupyter-widgets/base",
          "model_name": "LayoutModel",
          "model_module_version": "1.2.0",
          "state": {
            "_model_module": "@jupyter-widgets/base",
            "_model_module_version": "1.2.0",
            "_model_name": "LayoutModel",
            "_view_count": null,
            "_view_module": "@jupyter-widgets/base",
            "_view_module_version": "1.2.0",
            "_view_name": "LayoutView",
            "align_content": null,
            "align_items": null,
            "align_self": null,
            "border": null,
            "bottom": null,
            "display": null,
            "flex": null,
            "flex_flow": null,
            "grid_area": null,
            "grid_auto_columns": null,
            "grid_auto_flow": null,
            "grid_auto_rows": null,
            "grid_column": null,
            "grid_gap": null,
            "grid_row": null,
            "grid_template_areas": null,
            "grid_template_columns": null,
            "grid_template_rows": null,
            "height": null,
            "justify_content": null,
            "justify_items": null,
            "left": null,
            "margin": null,
            "max_height": null,
            "max_width": null,
            "min_height": null,
            "min_width": null,
            "object_fit": null,
            "object_position": null,
            "order": null,
            "overflow": null,
            "overflow_x": null,
            "overflow_y": null,
            "padding": null,
            "right": null,
            "top": null,
            "visibility": null,
            "width": null
          }
        },
        "c9227edeea094ea890ee649225d2456c": {
          "model_module": "@jupyter-widgets/controls",
          "model_name": "DescriptionStyleModel",
          "model_module_version": "1.5.0",
          "state": {
            "_model_module": "@jupyter-widgets/controls",
            "_model_module_version": "1.5.0",
            "_model_name": "DescriptionStyleModel",
            "_view_count": null,
            "_view_module": "@jupyter-widgets/base",
            "_view_module_version": "1.2.0",
            "_view_name": "StyleView",
            "description_width": ""
          }
        }
      }
    }
  },
  "cells": [
    {
      "cell_type": "markdown",
      "metadata": {
        "id": "view-in-github",
        "colab_type": "text"
      },
      "source": [
        "<a href=\"https://colab.research.google.com/github/FHCampbell71/ComputationalStats/blob/main/CS_Assign1.ipynb\" target=\"_parent\"><img src=\"https://colab.research.google.com/assets/colab-badge.svg\" alt=\"Open In Colab\"/></a>"
      ]
    },
    {
      "cell_type": "markdown",
      "source": [
        "# Causal Discovery from Observational Data"
      ],
      "metadata": {
        "id": "uE57Rmv9Ekpn"
      }
    },
    {
      "cell_type": "markdown",
      "source": [
        "## PC algorithm"
      ],
      "metadata": {
        "id": "fwsoB2C7ODjh"
      }
    },
    {
      "cell_type": "code",
      "source": [
        "!pip install ges\n",
        "!pip install castle\n",
        "!pip install gcastle==1.0.3\n",
        "import ges\n",
        "import castle"
      ],
      "metadata": {
        "id": "UAFs2TTP514v"
      },
      "execution_count": null,
      "outputs": []
    },
    {
      "cell_type": "code",
      "execution_count": null,
      "metadata": {
        "id": "dk3SZs4M06hr"
      },
      "outputs": [],
      "source": [
        "import os\n",
        "os.environ['CASTLE_BACKEND'] = 'pytorch'\n",
        "\n",
        "from collections import OrderedDict\n",
        "import warnings\n",
        "\n",
        "import numpy as np\n",
        "import networkx as nx\n",
        "import pandas as pd\n",
        "\n",
        "from castle.common import GraphDAG\n",
        "from castle.metrics import MetricsDAG\n",
        "from castle.datasets import IIDSimulation, DAG\n",
        "from castle.algorithms import PC, ICALiNGAM, GOLEM\n",
        "\n",
        "import matplotlib.pyplot as plt"
      ]
    },
    {
      "cell_type": "code",
      "source": [
        "# Mute warnings - for the sake of presentation clarity\n",
        "# Should be removed for real-life applications\n",
        "warnings.simplefilter('ignore')"
      ],
      "metadata": {
        "id": "Okqe8d4o5xAf"
      },
      "execution_count": null,
      "outputs": []
    },
    {
      "cell_type": "code",
      "source": [
        "# Loads data\n",
        "df = pd.read_csv(\"a1_data.csv\")"
      ],
      "metadata": {
        "id": "O051h-piKFZu"
      },
      "execution_count": null,
      "outputs": []
    },
    {
      "cell_type": "code",
      "source": [
        "list_name = []\n",
        "for index,row in df.iteritems():\n",
        "  list_name.append(index)"
      ],
      "metadata": {
        "id": "K9MSmk6hKrEQ"
      },
      "execution_count": null,
      "outputs": []
    },
    {
      "cell_type": "code",
      "source": [
        "# To matrix\n",
        "pc_dataset = df"
      ],
      "metadata": {
        "id": "l1ytPyYV60Wx"
      },
      "execution_count": null,
      "outputs": []
    },
    {
      "cell_type": "code",
      "source": [
        "# Sanity check\n",
        "pc_dataset, pc_dataset.shape"
      ],
      "metadata": {
        "id": "3KJrhTww61tp",
        "colab": {
          "base_uri": "https://localhost:8080/"
        },
        "outputId": "a6676a46-2479-4a2e-e13c-1107041b5242"
      },
      "execution_count": null,
      "outputs": [
        {
          "output_type": "execute_result",
          "data": {
            "text/plain": [
              "(              A         B         C         D         E         F         G  \\\n",
              " 0      3.179665  3.030625  3.222752  2.836624  3.386284  1.910165  2.179628   \n",
              " 1      3.313155  3.127535  3.367189  2.799483  2.527001  2.359419  2.461049   \n",
              " 2      3.531847  3.554489  3.441636  2.582776  2.730851  2.263097  2.461049   \n",
              " 3      3.621384  3.828081  3.640896  2.704508  1.727649  1.855651  2.021082   \n",
              " 4      3.285691  3.206716  2.992451  2.562289  3.011359  2.414187  2.612864   \n",
              " ...         ...       ...       ...       ...       ...       ...       ...   \n",
              " 11667  3.793141  3.921324  3.895300  3.000136  2.883361  2.333931  2.847800   \n",
              " 11668  3.469416  3.491603  3.629846  2.898924  2.700522  2.953265  3.093751   \n",
              " 11669  3.550766  3.480149  3.653584  2.859884  2.535938  1.754421  2.606183   \n",
              " 11670  3.641136  3.679161  3.137581  2.870503  2.706313  2.773593  2.882737   \n",
              " 11671  3.586360  2.832224  3.242749  3.792578  2.887171  2.085967  2.402463   \n",
              " \n",
              "               H         I         J         K  \n",
              " 0      3.464657  3.705143  3.921797  3.566766  \n",
              " 1      3.394200  3.002324  3.487035  3.753581  \n",
              " 2      3.452962  3.531599  3.773342  3.254741  \n",
              " 3      3.570291  3.611415  3.725917  3.328318  \n",
              " 4      3.331957  3.143080  3.679484  3.874796  \n",
              " ...         ...       ...       ...       ...  \n",
              " 11667  3.898225  2.699285  1.123815  2.824223  \n",
              " 11668  3.804530  2.699285  1.707091  2.824223  \n",
              " 11669  3.703122  2.699285  0.963030  3.125252  \n",
              " 11670  3.749889  4.347643  3.855321  3.211612  \n",
              " 11671  3.789189  2.699285  0.730129  3.041706  \n",
              " \n",
              " [11672 rows x 11 columns], (11672, 11))"
            ]
          },
          "metadata": {},
          "execution_count": 23
        }
      ]
    },
    {
      "cell_type": "code",
      "source": [
        "# Build the model\n",
        "pc = castle.algorithms.PC()\n",
        "pc.learn(pc_dataset)"
      ],
      "metadata": {
        "id": "Owc56NyD63Lj"
      },
      "execution_count": null,
      "outputs": []
    },
    {
      "cell_type": "code",
      "source": [
        "pc.causal_matrix"
      ],
      "metadata": {
        "colab": {
          "base_uri": "https://localhost:8080/"
        },
        "id": "SIaJz0no64zu",
        "outputId": "3e99df67-3ed0-40db-f78f-4d06cd79411b"
      },
      "execution_count": null,
      "outputs": [
        {
          "output_type": "execute_result",
          "data": {
            "text/plain": [
              "Tensor([[0, 1, 1, 0, 0, 0, 0, 1, 0, 1, 1],\n",
              "        [0, 0, 1, 0, 0, 0, 0, 0, 0, 1, 0],\n",
              "        [0, 0, 0, 0, 0, 0, 0, 0, 0, 0, 1],\n",
              "        [0, 0, 1, 0, 1, 0, 0, 0, 0, 1, 0],\n",
              "        [0, 0, 1, 0, 0, 0, 0, 0, 0, 0, 0],\n",
              "        [0, 1, 1, 0, 0, 0, 1, 1, 0, 1, 0],\n",
              "        [0, 0, 0, 0, 0, 0, 0, 0, 0, 0, 1],\n",
              "        [0, 0, 0, 0, 1, 0, 0, 0, 0, 1, 1],\n",
              "        [0, 0, 0, 0, 0, 0, 0, 1, 0, 1, 1],\n",
              "        [0, 0, 0, 0, 0, 0, 0, 0, 0, 0, 0],\n",
              "        [0, 0, 0, 0, 1, 0, 0, 0, 0, 0, 0]])"
            ]
          },
          "metadata": {},
          "execution_count": 25
        }
      ]
    },
    {
      "cell_type": "code",
      "source": [
        "np.sum(pc.causal_matrix,axis=1) # row out\n",
        "np.sum(pc.causal_matrix,axis=0) # column in"
      ],
      "metadata": {
        "colab": {
          "base_uri": "https://localhost:8080/"
        },
        "id": "7NUpp5OgaEKp",
        "outputId": "9ec14f5c-6366-40e6-c7c2-58bebd991c2f"
      },
      "execution_count": null,
      "outputs": [
        {
          "output_type": "execute_result",
          "data": {
            "text/plain": [
              "Tensor([5, 2, 1, 3, 1, 5, 1, 3, 3, 0, 1])"
            ]
          },
          "metadata": {},
          "execution_count": 46
        }
      ]
    },
    {
      "cell_type": "code",
      "source": [
        "# Get learned graph\n",
        "learned_graph = nx.DiGraph(pc.causal_matrix)\n",
        "\n",
        "# Relabel the nodes\n",
        "MAPPING = {k: v for k, v in zip(range(len(list_name)), list_name)}\n",
        "learned_graph = nx.relabel_nodes(learned_graph, MAPPING, copy=True)\n",
        "\n",
        "# Plot the graph\n",
        "nx.draw(\n",
        "    learned_graph, \n",
        "    with_labels=True,\n",
        "    node_size=800,\n",
        "    font_size=15,\n",
        "    font_color='white'\n",
        ")"
      ],
      "metadata": {
        "colab": {
          "base_uri": "https://localhost:8080/",
          "height": 319
        },
        "id": "u5uulEId7h7b",
        "outputId": "d78c6883-d8ba-4244-8daf-72f6a9ed39e7"
      },
      "execution_count": null,
      "outputs": [
        {
          "output_type": "display_data",
          "data": {
            "text/plain": [
              "<Figure size 432x288 with 1 Axes>"
            ],
            "image/png": "[encoded data removed]"
          },
          "metadata": {}
        }
      ]
    },
    {
      "cell_type": "markdown",
      "source": [
        "## Gradient-based Optimization of dag-penalized Likelihood for learning linEar dag Models (GOLEM)"
      ],
      "metadata": {
        "id": "56i9RoJ0O083"
      }
    },
    {
      "cell_type": "code",
      "source": [
        "GOLEM = castle.algorithms.GOLEM()\n",
        "GOLEM.learn(pc_dataset)"
      ],
      "metadata": {
        "id": "UmyqL-_ic4ZV"
      },
      "execution_count": null,
      "outputs": []
    },
    {
      "cell_type": "code",
      "source": [
        "GOLEM.causal_matrix"
      ],
      "metadata": {
        "id": "3s4sFJSqc-YZ"
      },
      "execution_count": null,
      "outputs": []
    },
    {
      "cell_type": "markdown",
      "source": [
        "##  Linear Non-Gaussian Acyclic Model  (LiNGAM)"
      ],
      "metadata": {
        "id": "GpX2WvdCjdoQ"
      }
    },
    {
      "cell_type": "code",
      "source": [
        "ICALiNGAM = castle.algorithms.ICALiNGAM()\n",
        "ICALiNGAM.learn(pc_dataset)"
      ],
      "metadata": {
        "id": "vAVbWn8FhgVc"
      },
      "execution_count": null,
      "outputs": []
    },
    {
      "cell_type": "code",
      "source": [
        "ICALiNGAM.causal_matrix"
      ],
      "metadata": {
        "colab": {
          "base_uri": "https://localhost:8080/"
        },
        "id": "IyKurXg5hqxA",
        "outputId": "4fa0c4dd-46a0-43e5-8585-520601c6cbd9"
      },
      "execution_count": null,
      "outputs": [
        {
          "output_type": "execute_result",
          "data": {
            "text/plain": [
              "Tensor([[0, 0, 0, 0, 0, 0, 0, 0, 0, 1, 0],\n",
              "        [1, 0, 0, 0, 0, 0, 0, 0, 0, 1, 0],\n",
              "        [0, 0, 0, 0, 0, 0, 0, 0, 0, 0, 0],\n",
              "        [0, 0, 0, 0, 0, 0, 0, 0, 0, 0, 0],\n",
              "        [0, 0, 0, 0, 0, 0, 0, 0, 0, 0, 0],\n",
              "        [0, 0, 0, 0, 0, 0, 1, 0, 0, 0, 0],\n",
              "        [0, 0, 0, 0, 0, 0, 0, 0, 0, 0, 0],\n",
              "        [0, 0, 0, 0, 0, 0, 0, 0, 0, 1, 0],\n",
              "        [0, 0, 0, 0, 0, 0, 0, 0, 0, 1, 0],\n",
              "        [0, 0, 0, 0, 0, 0, 0, 0, 0, 0, 0],\n",
              "        [0, 0, 0, 0, 0, 0, 0, 0, 0, 0, 0]])"
            ]
          },
          "metadata": {},
          "execution_count": 70
        }
      ]
    },
    {
      "cell_type": "code",
      "source": [
        "# Get learned graph\n",
        "learned_graph = nx.DiGraph(ICALiNGAM.causal_matrix)\n",
        "\n",
        "# Relabel the nodes\n",
        "MAPPING = {k: v for k, v in zip(range(len(list_name)), list_name)}\n",
        "learned_graph = nx.relabel_nodes(learned_graph, MAPPING, copy=True)\n",
        "\n",
        "# Plot the graph\n",
        "nx.draw(\n",
        "    learned_graph, \n",
        "    with_labels=True,\n",
        "    node_size=800,\n",
        "    font_size=18,\n",
        "    font_color='white'\n",
        ")"
      ],
      "metadata": {
        "colab": {
          "base_uri": "https://localhost:8080/",
          "height": 319
        },
        "id": "N1bKPexodIrM",
        "outputId": "993742e9-d5fc-4dfb-cb63-a4173ccfc4c6"
      },
      "execution_count": null,
      "outputs": [
        {
          "output_type": "display_data",
          "data": {
            "text/plain": [
              "<Figure size 432x288 with 1 Axes>"
            ],
            "image/png": "[encoded data removed]"
          },
          "metadata": {}
        }
      ]
    },
    {
      "cell_type": "markdown",
      "source": [
        "## FCI \n"
      ],
      "metadata": {
        "id": "AMj_82PyjlbE"
      }
    },
    {
      "cell_type": "code",
      "source": [
        "!pip install causal-learn\n",
        "from causallearn.search.ConstraintBased.FCI import fci"
      ],
      "metadata": {
        "id": "joN2HVyCQ8hU"
      },
      "execution_count": null,
      "outputs": []
    },
    {
      "cell_type": "code",
      "source": [
        "df_np = df.to_numpy()\n",
        "fci(df_np)"
      ],
      "metadata": {
        "id": "3JxFUY9PrLUk"
      },
      "execution_count": null,
      "outputs": []
    },
    {
      "cell_type": "code",
      "source": [
        "# or customized parameters\n",
        "G, edges = fci(df_np)\n",
        "# visualization\n",
        "from causallearn.utils.GraphUtils import GraphUtils\n",
        "pdy = GraphUtils.to_pydot(G, labels=list_name)\n",
        "pdy.write_png('fci.png')\n"
      ],
      "metadata": {
        "colab": {
          "base_uri": "https://localhost:8080/",
          "height": 146,
          "referenced_widgets": [
            "04f1ac91a8064770898c6c6604a51723",
            "b1018ff1fd564c95989ec00b016ae6d4",
            "9c104ade7e4a4c37baa7ba9c7ab9c55a",
            "eaabab960db646178a61cf992c1edbbe",
            "bfe7dcebb27a4fab96966cdc966cd3ef",
            "9d1422c15f854c2baa9bba614ee0964e",
            "5ba5cccf834643e9a9a2f10fe8fb205f",
            "680e65233e6b41729442f42dc81a2149",
            "515be794b5924c7d92e9000d7b6b99d7",
            "34e3ccf7b17e45adb400f8b88fbefa03",
            "c9227edeea094ea890ee649225d2456c"
          ]
        },
        "id": "-ytHkAZrrVBX",
        "outputId": "02b01a05-7650-441f-d31a-6d8c8171212c"
      },
      "execution_count": null,
      "outputs": [
        {
          "output_type": "display_data",
          "data": {
            "text/plain": [
              "  0%|          | 0/11 [00:00<?, ?it/s]"
            ],
            "application/vnd.jupyter.widget-view+json": {
              "version_major": 2,
              "version_minor": 0,
              "model_id": "04f1ac91a8064770898c6c6604a51723"
            }
          },
          "metadata": {}
        },
        {
          "output_type": "stream",
          "name": "stdout",
          "text": [
            "X3 --> X1\n",
            "X1 --> X10\n",
            "X2 --> X3\n",
            "X8 --> X9\n"
          ]
        }
      ]
    }
  ]
}