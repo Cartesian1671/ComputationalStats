{
  "nbformat": 4,
  "nbformat_minor": 0,
  "metadata": {
    "colab": {
      "provenance": []
    },
    "kernelspec": {
      "name": "python3",
      "display_name": "Python 3"
    },
    "language_info": {
      "name": "python"
    }
  },
  "cells": [
    {
      "cell_type": "code",
      "execution_count": 1,
      "metadata": {
        "id": "dfNjdzq6TATH"
      },
      "outputs": [],
      "source": [
        "import csv\n",
        "from tqdm import tqdm\n",
        "import networkx as nx"
      ]
    },
    {
      "cell_type": "code",
      "source": [
        "import networkx as nx \n",
        "G = nx.DiGraph()"
      ],
      "metadata": {
        "id": "RS42HAhzTR7j"
      },
      "execution_count": 2,
      "outputs": []
    },
    {
      "cell_type": "code",
      "source": [
        "with open('/content/a1_data.csv', 'r') as f:\n",
        "    data = csv.reader(f)\n",
        "    headers = next(data)\n",
        "    for row in tqdm(data):\n",
        "        G.add_node(row[0]) #superhero in first column\n",
        "        G.add_node(row[1]) #superhero in second column\n",
        "        if G.has_edge(row[0], row[1]):\n",
        "            # edge already exists, increase weight by one\n",
        "            G[row[0]][row[1]]['weight'] += 1\n",
        "        else:\n",
        "            # add new edge with weight 1\n",
        "            G.add_edge(row[0], row[1], weight = 1)"
      ],
      "metadata": {
        "colab": {
          "base_uri": "https://localhost:8080/"
        },
        "id": "lobHV59CTR-R",
        "outputId": "58e96f38-4d3a-48c6-c00c-0af7d8638815"
      },
      "execution_count": 5,
      "outputs": [
        {
          "output_type": "stream",
          "name": "stderr",
          "text": [
            "11672it [00:00, 30714.64it/s]\n"
          ]
        }
      ]
    },
    {
      "cell_type": "code",
      "source": [
        "G_nodes = G.number_of_nodes()\n",
        "G_edges = G.number_of_edges()\n",
        "print(\"Nodes = \", G_nodes, \" Edges = \",G_edges)"
      ],
      "metadata": {
        "colab": {
          "base_uri": "https://localhost:8080/"
        },
        "id": "5Eu5Um1qTSA6",
        "outputId": "c2f10e3a-9858-42de-dcd7-9c5cb9e098f9"
      },
      "execution_count": 6,
      "outputs": [
        {
          "output_type": "stream",
          "name": "stdout",
          "text": [
            "Nodes =  6647  Edges =  9819\n"
          ]
        }
      ]
    },
    {
      "cell_type": "code",
      "source": [
        "nx.write_gexf(G, \"/home/GEXF/trial-network.gexf\")"
      ],
      "metadata": {
        "id": "LMkNTfv1TSDx"
      },
      "execution_count": 11,
      "outputs": []
    },
    {
      "cell_type": "markdown",
      "source": [
        "# New Section"
      ],
      "metadata": {
        "id": "qiiMsSBDVVL_"
      }
    },
    {
      "cell_type": "code",
      "source": [],
      "metadata": {
        "id": "YfRQrnuCTSHM"
      },
      "execution_count": null,
      "outputs": []
    }
  ]
}